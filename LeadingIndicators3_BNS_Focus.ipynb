{
 "cells": [
  {
   "cell_type": "markdown",
   "id": "232a8034-f2b9-47ab-9805-740ee51ef097",
   "metadata": {},
   "source": [
    "# Leading Indicators Jupyter Notebook 3\n",
    "In Jupyter Notebook 2 it was discovered that BNS.TO had 5 of the top 10 leading indicators.  \n",
    "This notbook focusses on finding the top 10 leading indicators of the BNS.TO Security.  "
   ]
  },
  {
   "cell_type": "markdown",
   "id": "bfae5db3-0ed2-4f7a-9bc7-6e9b9fc2e482",
   "metadata": {},
   "source": [
    "# Import Python Libraries"
   ]
  },
  {
   "cell_type": "code",
   "execution_count": null,
   "id": "c0b67058-fd39-4f07-9f99-ac96c724a0c7",
   "metadata": {},
   "outputs": [],
   "source": [
    "# Initial imports\n",
    "import os\n",
    "import csv\n",
    "import requests\n",
    "import pandas as pd\n",
    "#from dotenv import load_dotenv\n",
    "#import alpaca_trade_api as tradeapi\n",
    "#from MCForecastTools import MCSimulation\n",
    "import numpy as np\n",
    "import matplotlib.pyplot as plt\n",
    "import seaborn\n",
    "import warnings\n",
    "from pathlib import Path\n",
    "import datetime as dt\n",
    "\n",
    "#Subsequent imports\n",
    "import matplotlib.pyplot as plt\n",
    "import seaborn as sns\n",
    "import yfinance as yf\n",
    "import hvplot.pandas\n",
    "\n",
    "# Enable the Matplotlib property to allow diagrams to display in Jupyter Notebook\n",
    "%matplotlib inline"
   ]
  },
  {
   "cell_type": "markdown",
   "id": "2f902f05-483b-491e-8f9c-a200985fc635",
   "metadata": {},
   "source": [
    "# Import Data - Security/Stock Prices"
   ]
  },
  {
   "cell_type": "markdown",
   "id": "e18ebc50-aedd-48dc-a0f0-6dcc11a73172",
   "metadata": {},
   "source": [
    "## 1. Yahoo Finance Data"
   ]
  },
  {
   "cell_type": "code",
   "execution_count": null,
   "id": "eb3e5346-d063-442e-b001-2071a771200d",
   "metadata": {},
   "outputs": [],
   "source": [
    "# List the ticker symbols for the stocks of interest\n",
    "lst=['BMO.TO', 'BNS.TO', 'CM.TO', 'NA.TO','RY.TO', 'TD.TO', 'ZEB.TO','ZWB.TO', 'XGB.TO', 'CL' ]\n",
    "\n",
    "# Determine the start and end dates\n",
    "start_date = '2016-08-01'\n",
    "end_date = '2019-07-31'\n",
    "\n",
    "# Create empty dataframe to hold stock data\n",
    "dfAllStocks_Yahoo=pd.DataFrame()\n",
    "\n",
    "# Gathers stock data from listed tickers and combines them into a dataframe\n",
    "for ticker in lst:\n",
    "    # Create data frame from API in loop \n",
    "    df= yf.download(ticker, start= start_date, end= end_date)\n",
    "    # Remove to '.TO' suffix from Canadian stocks\n",
    "    tic= ticker.replace('.TO','')\n",
    "    df['Ticker']=tic\n",
    "    # Drop unwanted coloumns - Keep Adjusted Close\n",
    "    df.drop(columns= [\"Open\", \"High\", \"Low\", \"Volume\", \"Close\", \"Ticker\"], inplace= True)\n",
    "    # Combine individual stocks into a single data frame\n",
    "    dfAllStocks_Yahoo=pd.concat([dfAllStocks_Yahoo, df], axis= 1)\n",
    "\n",
    "# Rename the coloumns to the ticker symbols in the list\n",
    "dfAllStocks_Yahoo.columns = lst\n",
    "dfAllStocks_Yahoo.index.name = 'Date'\n",
    "\n",
    "# Drop the N/As\n",
    "dfAllStocks_Yahoo = dfAllStocks_Yahoo.dropna()\n",
    "\n",
    "# Drop the time component of the date\n",
    "dfAllStocks_Yahoo.index = dfAllStocks_Yahoo.index.date\n",
    "\n",
    "# Display the data\n",
    "display(dfAllStocks_Yahoo)"
   ]
  },
  {
   "cell_type": "markdown",
   "id": "e6931e53-84a1-41da-bf69-2100854081ce",
   "metadata": {},
   "source": [
    "## 2. CSV Import - Trade Station Data"
   ]
  },
  {
   "cell_type": "code",
   "execution_count": null,
   "id": "2c822a58-533d-4313-8d5c-4717b80e0ae2",
   "metadata": {},
   "outputs": [],
   "source": [
    "# Commodities\n",
    "cd_path = Path(\"../data/CD_10Year.txt\")\n",
    "dx_path = Path(\"../data/DX_10Year.txt\")\n",
    "\n",
    "# Commodities\n",
    "cd_df = pd.read_csv(cd_path, index_col = \"Date\", parse_dates = True, infer_datetime_format=True)\n",
    "cd_df = cd_df.drop(columns=['Time', 'Open', 'High', 'Low', 'Vol', 'OI'])\n",
    "cd_df.columns = [\"USDCAD\"]\n",
    "cd_df['USDCAD'] = cd_df['USDCAD'].copy() * 100\n",
    "dx_df = pd.read_csv(dx_path, index_col = \"Date\", parse_dates = True, infer_datetime_format=True)\n",
    "dx_df = dx_df.drop(columns=['Time', 'Open', 'High', 'Low', 'Vol', 'OI'])\n",
    "dx_df.columns = [\"DXY\"]\n",
    "\n",
    "# Display the data\n",
    "#display(cd_df)\n",
    "#display(dx_df)"
   ]
  },
  {
   "cell_type": "markdown",
   "id": "a9819d4f-b323-4272-a402-87095c2e9039",
   "metadata": {},
   "source": [
    "## 3. Concatinate Dataframes"
   ]
  },
  {
   "cell_type": "code",
   "execution_count": null,
   "id": "8ec5f6c3-4a00-4060-9bd4-ab5a42342ee9",
   "metadata": {},
   "outputs": [],
   "source": [
    "# Join Yahoo Finance and Trade Station CSV files.\n",
    "all_stocks_df = pd.concat([dfAllStocks_Yahoo, cd_df, dx_df], axis=\"columns\", join=\"inner\")\n",
    "\n",
    "# Testing Purposes: Exclude CSV Files Data\n",
    "#all_stocks_df=all_stocks_df.drop(columns=['CD', 'DX'])\n",
    "\n",
    "# Ensure data sorted by index \n",
    "all_stocks_df.index.name = 'Date'\n",
    "all_stocks_df.sort_index(inplace = True)\n",
    "\n",
    "# Display sample data\n",
    "all_stocks_df\n",
    "#all_stocks_df.columns"
   ]
  },
  {
   "cell_type": "markdown",
   "id": "995d9715-e47d-456a-9b26-4aa8d2384da1",
   "metadata": {},
   "source": [
    "# Prepare Data for Analysis"
   ]
  },
  {
   "cell_type": "markdown",
   "id": "8470a973-594c-4834-8d0a-6afc28fa11c5",
   "metadata": {},
   "source": [
    "## 1. Dataframe Column Names to List"
   ]
  },
  {
   "cell_type": "code",
   "execution_count": null,
   "id": "2b892b66-8544-413f-9f72-37bc8923c490",
   "metadata": {},
   "outputs": [],
   "source": [
    "lst = all_stocks_df.columns.to_list()\n",
    "print(len(lst))\n",
    "print(type(lst))\n",
    "print(lst)\n",
    "print(all_stocks_df.index.name)"
   ]
  },
  {
   "cell_type": "markdown",
   "id": "8fe1e44c-2886-4482-8d06-4b653b0b2531",
   "metadata": {},
   "source": [
    "## 2. Validate Nested Loops through Data Frame  \n",
    "- Leader is the Security viewed as the Leading Indicator\n",
    "- Target is the Security being predicted by the Leading Indicator\n",
    "- Number of Paris = n(n-1) = 12 x 11 = 132 pairs of Securities"
   ]
  },
  {
   "cell_type": "code",
   "execution_count": null,
   "id": "e7521d3d-7e8e-43ed-ac30-608c7a868584",
   "metadata": {},
   "outputs": [],
   "source": [
    "# Nested loop though all securities creating pairs of securities \n",
    "\"\"\"\n",
    "for leader in lst:\n",
    "    count = 0\n",
    "    lst2 = lst.copy()\n",
    "    lst2.remove(leader)       # Exclude pairs of same security\n",
    "    for target in lst2:\n",
    "        print(leader + ' - ' + target)\n",
    "        count += 1\n",
    "    print(f'Number of {leader} Security Pairs : {count}. \\n')\n",
    "\"\"\""
   ]
  },
  {
   "cell_type": "markdown",
   "id": "7c55c5a2-fe52-44c3-bbbf-76a4ce536a1a",
   "metadata": {},
   "source": [
    "## 3. Analysis Routine - Looking for a relationship between the Leader and Target"
   ]
  },
  {
   "cell_type": "code",
   "execution_count": null,
   "id": "6c73cfeb-028f-4754-a81b-9dbaf529c274",
   "metadata": {},
   "outputs": [],
   "source": [
    "all_stocks_df"
   ]
  },
  {
   "cell_type": "code",
   "execution_count": null,
   "id": "491e1ea3-03aa-4250-891c-590193e7314a",
   "metadata": {},
   "outputs": [],
   "source": [
    "# Loop through all securities as a leading indicator:\n",
    "index_count = 0\n",
    "df_correlation = pd.DataFrame(columns = ['p', 'Leader', 'Target', 'Corr', 'AbsCorr'] )\n",
    "lst = all_stocks_df.columns.to_list()\n",
    "#lst = lst.remove(\"BNS.TO\")\n",
    "\n",
    "for leader in lst:\n",
    "    lst2 = lst.copy()\n",
    "    lst2.remove(leader)\n",
    "    lst2 = ['BNS.TO']\n",
    "    \n",
    "# Loop through all stosck excluding the lerading indicator:    \n",
    "    for target in lst2:\n",
    "\n",
    "# Create and empty DataFrame for closing prices\n",
    "        df_closing_prices = pd.DataFrame()\n",
    "        \n",
    "\n",
    "# Fetch the closing prices of Stock being lead\n",
    "        df_closing_prices[leader] = all_stocks_df[leader]\n",
    "        df_closing_prices[target] = all_stocks_df[target]\n",
    "\n",
    "# Calcualte for Leader Stock\n",
    "        #df_closing_prices['leader_moving_average']=df_closing_prices[leader].rolling(window=5).mean()\n",
    "        #df_closing_prices['leader_tstat']=(df_closing_prices[leader]-df_closing_prices['leader_moving_average'])/df_closing_prices[leader].rolling(window=200).std()\n",
    "        #df_closing_prices['leader_pct_chg']=df_closing_prices[leader].pct_change()\n",
    "        #df_closing_prices['target_moving_average']=df_closing_prices[target].rolling(window=5).mean()\n",
    "\n",
    "# Drop columns not required\n",
    "        #df_closing_prices=df_closing_prices.drop(columns=['leader_moving_average'])\n",
    "        #display(df_closing_prices)\n",
    "        df_closing_prices=df_closing_prices.dropna()\n",
    "        #display(df_closing_prices)\n",
    "\n",
    "# Loop through varios Leading Indicator Scenarios:\n",
    "        for p in range(1,30,5):\n",
    "            print('***************************************************************************************************')\n",
    "            print(f' Iteration {p} for Leader: {leader} vs. Target: {target}')\n",
    "            print('***************************************************************************************************')\n",
    "            dfopt=df_closing_prices\n",
    "            dfopt['Target_Change']=dfopt[target].pct_change(p).shift(-p)\n",
    "            dfopt['Leader_Change']=dfopt[leader].pct_change(p)\n",
    "            dfopt=dfopt[['Target_Change','Leader_Change']]\n",
    "            dfcorr = dfopt.corr() \n",
    "            display(dfopt.corr())\n",
    "            dfopt=dfopt.dropna()\n",
    "            dfopt['RtnQuantile']=pd.qcut(dfopt['Target_Change'], 5,labels = False)\n",
    "            dfPlot=dfopt.groupby('RtnQuantile')[['Leader_Change']].mean()\n",
    "            #display(dfPlot)\n",
    "            display(dfPlot.hvplot.bar())\n",
    "            display(dfopt.hvplot.scatter(y='Target_Change',x='Leader_Change'))\n",
    "            #display(df_closing_prices.hvplot.scatter(y='FutureChange',x=tic_tstat))\n",
    "\n",
    "# Put correlation into a dataframe            \n",
    "            df_temp = pd.DataFrame({\"p\":p, \"Leader\":leader, \"Target\":target, \"Corr\":dfcorr.iloc[0][1], \"AbsCorr\": abs(dfcorr.iloc[0][1])}, index = [index_count])\n",
    "            df_correlation = pd.concat([df_correlation,df_temp], axis = \"rows\")\n",
    "            index_count += 1\n",
    "            \n",
    "        del(dfopt)\n",
    "        del(dfPlot)\n"
   ]
  },
  {
   "cell_type": "code",
   "execution_count": null,
   "id": "5202f495-0b30-49cb-8026-64e8e861222c",
   "metadata": {},
   "outputs": [],
   "source": [
    "df_correlation.drop(df_correlation[(df_correlation['Leader'] == 'BNS.TO')].index, inplace=True)\n",
    "display(df_correlation.sort_values('AbsCorr', ascending=[False]).head(10))"
   ]
  },
  {
   "cell_type": "code",
   "execution_count": null,
   "id": "693a429d-4760-4c56-a48b-ef401a9852a6",
   "metadata": {},
   "outputs": [],
   "source": []
  }
 ],
 "metadata": {
  "kernelspec": {
   "display_name": "Python 3.9.13",
   "language": "python",
   "name": "python3"
  },
  "language_info": {
   "codemirror_mode": {
    "name": "ipython",
    "version": 3
   },
   "file_extension": ".py",
   "mimetype": "text/x-python",
   "name": "python",
   "nbconvert_exporter": "python",
   "pygments_lexer": "ipython3",
   "version": "3.9.13"
  },
  "vscode": {
   "interpreter": {
    "hash": "ff57633ec96ba3944c1965cf5a10e4b53ed5be26bc513917e4fa4e5dab63a6ab"
   }
  }
 },
 "nbformat": 4,
 "nbformat_minor": 5
}
